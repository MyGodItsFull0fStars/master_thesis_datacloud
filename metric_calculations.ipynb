{
 "cells": [
  {
   "attachments": {},
   "cell_type": "markdown",
   "metadata": {},
   "source": [
    "Calculation of Metrics"
   ]
  },
  {
   "cell_type": "code",
   "execution_count": 14,
   "metadata": {},
   "outputs": [],
   "source": [
    "import numpy as np"
   ]
  },
  {
   "cell_type": "code",
   "execution_count": 15,
   "metadata": {},
   "outputs": [],
   "source": [
    "def percentage_difference(v1: float, v2: float):\n",
    "    a = np.abs(v1 - v2)\n",
    "    b = np.abs((v1 + v2) / 2)\n",
    "    \n",
    " \n",
    "    smaller_val = 'User' if v1 < v2 else 'LSTM'\n",
    "    \n",
    "    print(round(a * 100 / b, 4), smaller_val)\n",
    "    # return a * 100 / b, smaller_val"
   ]
  },
  {
   "attachments": {},
   "cell_type": "markdown",
   "metadata": {},
   "source": [
    "User Metrics"
   ]
  },
  {
   "cell_type": "code",
   "execution_count": 16,
   "metadata": {},
   "outputs": [],
   "source": [
    "user_cpu_rmse, user_cpu_mape, user_cpu_smape = 812.497,  355.049,  89.466\n",
    "user_mem_rmse, user_mem_mape, user_mem_smape = 73.853,   3672.256,   97.613\n"
   ]
  },
  {
   "attachments": {},
   "cell_type": "markdown",
   "metadata": {},
   "source": [
    "Simple LSTM Metrics"
   ]
  },
  {
   "cell_type": "code",
   "execution_count": 17,
   "metadata": {},
   "outputs": [],
   "source": [
    "simple_cpu_rmse, simple_cpu_mape, simple_cpu_smape = 797.289 ,  206.062 ,  85.626\n",
    "simple_mem_rmse, simple_mem_mape, simple_mem_smape = 77.902 ,  7711.391 ,  109.870 "
   ]
  },
  {
   "attachments": {},
   "cell_type": "markdown",
   "metadata": {},
   "source": [
    "Task LSTM Metrics"
   ]
  },
  {
   "cell_type": "code",
   "execution_count": 18,
   "metadata": {},
   "outputs": [],
   "source": [
    "task_cpu_rmse, task_cpu_mape, task_cpu_smape = 688.089 ,  212.796 ,  83.017\n",
    "task_mem_rmse, task_mem_mape, task_mem_smape = 61.897 ,  32287.182 ,  119.715 "
   ]
  },
  {
   "attachments": {},
   "cell_type": "markdown",
   "metadata": {},
   "source": [
    "Instance LSTM Metrics"
   ]
  },
  {
   "cell_type": "code",
   "execution_count": 19,
   "metadata": {},
   "outputs": [],
   "source": [
    "instance_cpu_rmse, instance_cpu_mape, instance_cpu_smape = 614.645 ,  294.449 ,  87.975\n",
    "instance_mem_rmse, instance_mem_mape, instance_mem_smape = 60.415 ,  16855.899 ,  131.774"
   ]
  },
  {
   "attachments": {},
   "cell_type": "markdown",
   "metadata": {},
   "source": [
    "Penalty LSTM Metrics"
   ]
  },
  {
   "cell_type": "code",
   "execution_count": 20,
   "metadata": {},
   "outputs": [],
   "source": [
    "pmse_cpu_rmse, pmse_cpu_mape, pmse_cpu_smape = 637.124 ,  275.275 ,  82.988 \n",
    "pmse_mem_rmse, pmse_mem_mape, pmse_mem_smape = 77.541 ,  27603.612 ,  133.192"
   ]
  },
  {
   "attachments": {},
   "cell_type": "markdown",
   "metadata": {},
   "source": [
    "### CPU RMSE"
   ]
  },
  {
   "cell_type": "code",
   "execution_count": 21,
   "metadata": {},
   "outputs": [
    {
     "name": "stdout",
     "output_type": "stream",
     "text": [
      "1.8894 LSTM\n",
      "16.5813 LSTM\n",
      "27.727 LSTM\n",
      "24.1957 LSTM\n"
     ]
    }
   ],
   "source": [
    "percentage_difference(user_cpu_rmse, simple_cpu_rmse)\n",
    "percentage_difference(user_cpu_rmse, task_cpu_rmse)\n",
    "percentage_difference(user_cpu_rmse, instance_cpu_rmse)\n",
    "percentage_difference(user_cpu_rmse, pmse_cpu_rmse)"
   ]
  },
  {
   "attachments": {},
   "cell_type": "markdown",
   "metadata": {},
   "source": [
    "### CPU MAPE"
   ]
  },
  {
   "cell_type": "code",
   "execution_count": 22,
   "metadata": {},
   "outputs": [
    {
     "name": "stdout",
     "output_type": "stream",
     "text": [
      "53.1043 LSTM\n",
      "50.1028 LSTM\n",
      "18.6606 LSTM\n",
      "25.3121 LSTM\n"
     ]
    }
   ],
   "source": [
    "percentage_difference(user_cpu_mape, simple_cpu_mape)\n",
    "percentage_difference(user_cpu_mape, task_cpu_mape)\n",
    "percentage_difference(user_cpu_mape, instance_cpu_mape)\n",
    "percentage_difference(user_cpu_mape, pmse_cpu_mape)"
   ]
  },
  {
   "attachments": {},
   "cell_type": "markdown",
   "metadata": {},
   "source": [
    "### CPU sMAPE"
   ]
  },
  {
   "cell_type": "code",
   "execution_count": 23,
   "metadata": {},
   "outputs": [
    {
     "name": "stdout",
     "output_type": "stream",
     "text": [
      "4.3863 LSTM\n",
      "7.4778 LSTM\n",
      "1.6806 LSTM\n",
      "7.5127 LSTM\n"
     ]
    }
   ],
   "source": [
    "percentage_difference(user_cpu_smape, simple_cpu_smape)\n",
    "percentage_difference(user_cpu_smape, task_cpu_smape)\n",
    "percentage_difference(user_cpu_smape, instance_cpu_smape)\n",
    "percentage_difference(user_cpu_smape, pmse_cpu_smape)"
   ]
  },
  {
   "attachments": {},
   "cell_type": "markdown",
   "metadata": {},
   "source": [
    "### MEM RMSE"
   ]
  },
  {
   "cell_type": "code",
   "execution_count": 24,
   "metadata": {},
   "outputs": [
    {
     "name": "stdout",
     "output_type": "stream",
     "text": [
      "5.3362 User\n",
      "17.6147 LSTM\n",
      "20.0167 LSTM\n",
      "4.8721 User\n"
     ]
    }
   ],
   "source": [
    "percentage_difference(user_mem_rmse, simple_mem_rmse)\n",
    "percentage_difference(user_mem_rmse, task_mem_rmse)\n",
    "percentage_difference(user_mem_rmse, instance_mem_rmse)\n",
    "percentage_difference(user_mem_rmse, pmse_mem_rmse)"
   ]
  },
  {
   "attachments": {},
   "cell_type": "markdown",
   "metadata": {},
   "source": [
    "### MEM MAPE"
   ]
  },
  {
   "cell_type": "code",
   "execution_count": 25,
   "metadata": {},
   "outputs": [
    {
     "name": "stdout",
     "output_type": "stream",
     "text": [
      "70.9638 User\n",
      "159.1511 User\n",
      "128.4445 User\n",
      "153.034 User\n"
     ]
    }
   ],
   "source": [
    "percentage_difference(user_mem_mape, simple_mem_mape)\n",
    "percentage_difference(user_mem_mape, task_mem_mape)\n",
    "percentage_difference(user_mem_mape, instance_mem_mape)\n",
    "percentage_difference(user_mem_mape, pmse_mem_mape)"
   ]
  },
  {
   "attachments": {},
   "cell_type": "markdown",
   "metadata": {},
   "source": [
    "### MEM sMAPE"
   ]
  },
  {
   "cell_type": "code",
   "execution_count": 26,
   "metadata": {},
   "outputs": [
    {
     "name": "stdout",
     "output_type": "stream",
     "text": [
      "11.8149 User\n",
      "20.3398 User\n",
      "29.7846 User\n",
      "30.8304 User\n"
     ]
    }
   ],
   "source": [
    "percentage_difference(user_mem_smape, simple_mem_smape)\n",
    "percentage_difference(user_mem_smape, task_mem_smape)\n",
    "percentage_difference(user_mem_smape, instance_mem_smape)\n",
    "percentage_difference(user_mem_smape, pmse_mem_smape)"
   ]
  }
 ],
 "metadata": {
  "kernelspec": {
   "display_name": "base",
   "language": "python",
   "name": "python3"
  },
  "language_info": {
   "codemirror_mode": {
    "name": "ipython",
    "version": 3
   },
   "file_extension": ".py",
   "mimetype": "text/x-python",
   "name": "python",
   "nbconvert_exporter": "python",
   "pygments_lexer": "ipython3",
   "version": "3.9.15"
  },
  "orig_nbformat": 4
 },
 "nbformat": 4,
 "nbformat_minor": 2
}
