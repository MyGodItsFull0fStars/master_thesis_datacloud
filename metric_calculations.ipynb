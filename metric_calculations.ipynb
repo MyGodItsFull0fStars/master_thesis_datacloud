{
 "cells": [
  {
   "attachments": {},
   "cell_type": "markdown",
   "metadata": {},
   "source": [
    "Calculation of Metrics"
   ]
  },
  {
   "cell_type": "code",
   "execution_count": 1,
   "metadata": {},
   "outputs": [],
   "source": [
    "import numpy as np"
   ]
  },
  {
   "cell_type": "code",
   "execution_count": 27,
   "metadata": {},
   "outputs": [],
   "source": [
    "def percentage_difference(v1: float, v2: float):\n",
    "    a = np.abs(v1 - v2)\n",
    "    b = np.abs((v1 + v2) / 2)\n",
    "    \n",
    " \n",
    "    smaller_val = 'User' if v1 < v2 else 'LSTM'\n",
    "    \n",
    "    print(round(a * 100 / b, 4), smaller_val)\n",
    "    # return a * 100 / b, smaller_val"
   ]
  },
  {
   "attachments": {},
   "cell_type": "markdown",
   "metadata": {},
   "source": [
    "User Metrics"
   ]
  },
  {
   "cell_type": "code",
   "execution_count": 3,
   "metadata": {},
   "outputs": [],
   "source": [
    "user_cpu_rmse, user_cpu_mape, user_cpu_smape = 812.497,  355.049,  89.466\n",
    "user_mem_rmse, user_mem_mape, user_mem_smape = 73.853,   3672.256,   97.613\n"
   ]
  },
  {
   "attachments": {},
   "cell_type": "markdown",
   "metadata": {},
   "source": [
    "Simple LSTM Metrics"
   ]
  },
  {
   "cell_type": "code",
   "execution_count": 4,
   "metadata": {},
   "outputs": [],
   "source": [
    "simple_cpu_rmse, simple_cpu_mape, simple_cpu_smape = 797.289 ,  206.062 ,  85.626\n",
    "simple_mem_rmse, simple_mem_mape, simple_mem_smape = 77.902 ,  7711.391 ,  109.870 "
   ]
  },
  {
   "attachments": {},
   "cell_type": "markdown",
   "metadata": {},
   "source": [
    "Task LSTM Metrics"
   ]
  },
  {
   "cell_type": "code",
   "execution_count": 5,
   "metadata": {},
   "outputs": [],
   "source": [
    "task_cpu_rmse, task_cpu_mape, task_cpu_smape = 688.089 ,  212.796 ,  83.017\n",
    "task_mem_rmse, task_mem_mape, task_mem_smape = 61.897 ,  32287.182 ,  119.715 "
   ]
  },
  {
   "attachments": {},
   "cell_type": "markdown",
   "metadata": {},
   "source": [
    "Instance LSTM Metrics"
   ]
  },
  {
   "cell_type": "code",
   "execution_count": 6,
   "metadata": {},
   "outputs": [],
   "source": [
    "instance_cpu_rmse, instance_cpu_mape, instance_cpu_smape = 614.645 ,  294.449 ,  87.975\n",
    "instance_mem_rmse, instance_mem_mape, instance_mem_smape = 60.415 ,  16855.899 ,  131.774"
   ]
  },
  {
   "attachments": {},
   "cell_type": "markdown",
   "metadata": {},
   "source": [
    "Penalty LSTM Metrics"
   ]
  },
  {
   "cell_type": "code",
   "execution_count": 7,
   "metadata": {},
   "outputs": [],
   "source": [
    "pmse_cpu_rmse, pmse_cpu_mape, pmse_cpu_smape = 637.124 ,  275.275 ,  82.988 \n",
    "pmse_mem_rmse, pmse_mem_mape, pmse_mem_smape = 77.541 ,  27603.612 ,  133.192"
   ]
  },
  {
   "attachments": {},
   "cell_type": "markdown",
   "metadata": {},
   "source": [
    "### CPU RMSE"
   ]
  },
  {
   "cell_type": "code",
   "execution_count": 33,
   "metadata": {},
   "outputs": [
    {
     "name": "stdout",
     "output_type": "stream",
     "text": [
      "1.8894436900308451 LSTM\n",
      "16.58125558948303 LSTM\n",
      "27.72702365987407 LSTM\n",
      "24.195703566656377 LSTM\n"
     ]
    },
    {
     "data": {
      "text/plain": [
       "(24.195703566656377, 'LSTM')"
      ]
     },
     "execution_count": 33,
     "metadata": {},
     "output_type": "execute_result"
    }
   ],
   "source": [
    "percentage_difference(user_cpu_rmse, simple_cpu_rmse)\n",
    "percentage_difference(user_cpu_rmse, task_cpu_rmse)\n",
    "percentage_difference(user_cpu_rmse, instance_cpu_rmse)\n",
    "percentage_difference(user_cpu_rmse, pmse_cpu_rmse)"
   ]
  },
  {
   "attachments": {},
   "cell_type": "markdown",
   "metadata": {},
   "source": [
    "### CPU MAPE"
   ]
  },
  {
   "cell_type": "code",
   "execution_count": 31,
   "metadata": {},
   "outputs": [
    {
     "name": "stdout",
     "output_type": "stream",
     "text": [
      "4.386265506133906 LSTM\n",
      "7.477838395667977 LSTM\n",
      "1.6805586082134343 LSTM\n",
      "7.512728031822973 LSTM\n"
     ]
    },
    {
     "data": {
      "text/plain": [
       "(7.512728031822973, 'LSTM')"
      ]
     },
     "execution_count": 31,
     "metadata": {},
     "output_type": "execute_result"
    }
   ],
   "source": [
    "percentage_difference(user_cpu_smape, simple_cpu_smape)\n",
    "percentage_difference(user_cpu_smape, task_cpu_smape)\n",
    "percentage_difference(user_cpu_smape, instance_cpu_smape)\n",
    "percentage_difference(user_cpu_smape, pmse_cpu_smape)"
   ]
  },
  {
   "attachments": {},
   "cell_type": "markdown",
   "metadata": {},
   "source": [
    "### CPU sMAPE"
   ]
  },
  {
   "cell_type": "code",
   "execution_count": 32,
   "metadata": {},
   "outputs": [
    {
     "name": "stdout",
     "output_type": "stream",
     "text": [
      "53.104287743423306 LSTM\n",
      "50.102756914298794 LSTM\n",
      "18.660565544466635 LSTM\n",
      "25.312061733330797 LSTM\n"
     ]
    },
    {
     "data": {
      "text/plain": [
       "(25.312061733330797, 'LSTM')"
      ]
     },
     "execution_count": 32,
     "metadata": {},
     "output_type": "execute_result"
    }
   ],
   "source": [
    "percentage_difference(user_cpu_mape, simple_cpu_mape)\n",
    "percentage_difference(user_cpu_mape, task_cpu_mape)\n",
    "percentage_difference(user_cpu_mape, instance_cpu_mape)\n",
    "percentage_difference(user_cpu_mape, pmse_cpu_mape)"
   ]
  },
  {
   "attachments": {},
   "cell_type": "markdown",
   "metadata": {},
   "source": [
    "### MEM RMSE"
   ]
  },
  {
   "cell_type": "code",
   "execution_count": 37,
   "metadata": {},
   "outputs": [
    {
     "name": "stdout",
     "output_type": "stream",
     "text": [
      "5.336232743566942 User\n",
      "17.614732965009203 LSTM\n",
      "20.016683051806826 LSTM\n",
      "4.872055695734312 User\n"
     ]
    },
    {
     "data": {
      "text/plain": [
       "(4.872055695734312, 'User')"
      ]
     },
     "execution_count": 37,
     "metadata": {},
     "output_type": "execute_result"
    }
   ],
   "source": [
    "percentage_difference(user_mem_rmse, simple_mem_rmse)\n",
    "percentage_difference(user_mem_rmse, task_mem_rmse)\n",
    "percentage_difference(user_mem_rmse, instance_mem_rmse)\n",
    "percentage_difference(user_mem_rmse, pmse_mem_rmse)"
   ]
  },
  {
   "attachments": {},
   "cell_type": "markdown",
   "metadata": {},
   "source": [
    "### MEM MAPE"
   ]
  },
  {
   "cell_type": "code",
   "execution_count": 38,
   "metadata": {},
   "outputs": [
    {
     "name": "stdout",
     "output_type": "stream",
     "text": [
      "70.96381326652171 User\n",
      "159.1511302262288 User\n",
      "128.44449976142525 User\n",
      "153.03400052717961 User\n"
     ]
    },
    {
     "data": {
      "text/plain": [
       "(153.03400052717961, 'User')"
      ]
     },
     "execution_count": 38,
     "metadata": {},
     "output_type": "execute_result"
    }
   ],
   "source": [
    "percentage_difference(user_mem_mape, simple_mem_mape)\n",
    "percentage_difference(user_mem_mape, task_mem_mape)\n",
    "percentage_difference(user_mem_mape, instance_mem_mape)\n",
    "percentage_difference(user_mem_mape, pmse_mem_mape)"
   ]
  },
  {
   "attachments": {},
   "cell_type": "markdown",
   "metadata": {},
   "source": [
    "### MEM sMAPE"
   ]
  },
  {
   "cell_type": "code",
   "execution_count": 36,
   "metadata": {},
   "outputs": [
    {
     "name": "stdout",
     "output_type": "stream",
     "text": [
      "11.814943874919878 User\n",
      "20.33976293896783 User\n",
      "29.784599824750316 User\n",
      "30.830354628365942 User\n"
     ]
    },
    {
     "data": {
      "text/plain": [
       "(30.830354628365942, 'User')"
      ]
     },
     "execution_count": 36,
     "metadata": {},
     "output_type": "execute_result"
    }
   ],
   "source": [
    "percentage_difference(user_mem_smape, simple_mem_smape)\n",
    "percentage_difference(user_mem_smape, task_mem_smape)\n",
    "percentage_difference(user_mem_smape, instance_mem_smape)\n",
    "percentage_difference(user_mem_smape, pmse_mem_smape)"
   ]
  }
 ],
 "metadata": {
  "kernelspec": {
   "display_name": "base",
   "language": "python",
   "name": "python3"
  },
  "language_info": {
   "codemirror_mode": {
    "name": "ipython",
    "version": 3
   },
   "file_extension": ".py",
   "mimetype": "text/x-python",
   "name": "python",
   "nbconvert_exporter": "python",
   "pygments_lexer": "ipython3",
   "version": "3.9.15"
  },
  "orig_nbformat": 4
 },
 "nbformat": 4,
 "nbformat_minor": 2
}
